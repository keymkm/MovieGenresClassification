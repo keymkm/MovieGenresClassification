{
 "cells": [
  {
   "cell_type": "code",
   "execution_count": 3,
   "metadata": {},
   "outputs": [
    {
     "name": "stdout",
     "output_type": "stream",
     "text": [
      "2.3.0\n"
     ]
    }
   ],
   "source": [
    "import pandas as pd\n",
    "import numpy as np\n",
    "import nltk\n",
    "import string\n",
    "from nltk.corpus import stopwords\n",
    "import matplotlib.pyplot as plt\n",
    "from sklearn.model_selection import train_test_split\n",
    "\n",
    "import tensorflow as tf\n",
    "print(tf.__version__)\n",
    "\n",
    "from tensorflow.keras.preprocessing.text import Tokenizer\n",
    "from tensorflow.keras.preprocessing.sequence import pad_sequences"
   ]
  },
  {
   "cell_type": "markdown",
   "metadata": {},
   "source": [
    "## 1. Загрузка данных"
   ]
  },
  {
   "cell_type": "code",
   "execution_count": 4,
   "metadata": {},
   "outputs": [],
   "source": [
    "def load_movie_data (p_file_path):\n",
    "    '''Загрузка данных о фильмах в датафрейм в формате id\ttitle\tgenre\tgenre_id\tdescription.\n",
    "    Значения в файле должны разделяться символами \" ::: \". \n",
    "    Информаци о новом фильме должна начинаться с ново строки\n",
    "    \n",
    "    :param p_file_path: путь к файлу\n",
    "    :return DataFrame'''\n",
    "    \n",
    "    f = open(p_file_path)\n",
    "\n",
    "    add_rows ={}\n",
    "    index = 0\n",
    "    for line in f:\n",
    "        attributes = line.replace('\\n', '').split(' ::: ')\n",
    "       \n",
    "        if len (attributes) < 4:\n",
    "            continue\n",
    "        \n",
    "        add_rows[index] = {'id': attributes[0],\n",
    "                           'title': attributes[1],\n",
    "                           'genre': attributes[2],\n",
    "                           'description': attributes[3]}\n",
    "        \n",
    "        index = index + 1\n",
    "    \n",
    "    #for\n",
    "\n",
    "    f.close()\n",
    "    \n",
    "    return pd.DataFrame.from_dict(add_rows, \"index\")\n",
    "    \n",
    "#load_data"
   ]
  },
  {
   "cell_type": "code",
   "execution_count": 5,
   "metadata": {},
   "outputs": [
    {
     "data": {
      "text/html": [
       "<div>\n",
       "<style scoped>\n",
       "    .dataframe tbody tr th:only-of-type {\n",
       "        vertical-align: middle;\n",
       "    }\n",
       "\n",
       "    .dataframe tbody tr th {\n",
       "        vertical-align: top;\n",
       "    }\n",
       "\n",
       "    .dataframe thead th {\n",
       "        text-align: right;\n",
       "    }\n",
       "</style>\n",
       "<table border=\"1\" class=\"dataframe\">\n",
       "  <thead>\n",
       "    <tr style=\"text-align: right;\">\n",
       "      <th></th>\n",
       "      <th>id</th>\n",
       "      <th>title</th>\n",
       "      <th>genre</th>\n",
       "      <th>description</th>\n",
       "    </tr>\n",
       "  </thead>\n",
       "  <tbody>\n",
       "    <tr>\n",
       "      <th>0</th>\n",
       "      <td>1</td>\n",
       "      <td>Oscar et la dame rose (2009)</td>\n",
       "      <td>drama</td>\n",
       "      <td>Listening in to a conversation between his doc...</td>\n",
       "    </tr>\n",
       "    <tr>\n",
       "      <th>1</th>\n",
       "      <td>2</td>\n",
       "      <td>Cupid (1997)</td>\n",
       "      <td>thriller</td>\n",
       "      <td>A brother and sister with a past incestuous re...</td>\n",
       "    </tr>\n",
       "    <tr>\n",
       "      <th>2</th>\n",
       "      <td>3</td>\n",
       "      <td>Young, Wild and Wonderful (1980)</td>\n",
       "      <td>adult</td>\n",
       "      <td>As the bus empties the students for their fiel...</td>\n",
       "    </tr>\n",
       "    <tr>\n",
       "      <th>3</th>\n",
       "      <td>4</td>\n",
       "      <td>The Secret Sin (1915)</td>\n",
       "      <td>drama</td>\n",
       "      <td>To help their unemployed father make ends meet...</td>\n",
       "    </tr>\n",
       "    <tr>\n",
       "      <th>4</th>\n",
       "      <td>5</td>\n",
       "      <td>The Unrecovered (2007)</td>\n",
       "      <td>drama</td>\n",
       "      <td>The film's title refers not only to the un-rec...</td>\n",
       "    </tr>\n",
       "    <tr>\n",
       "      <th>...</th>\n",
       "      <td>...</td>\n",
       "      <td>...</td>\n",
       "      <td>...</td>\n",
       "      <td>...</td>\n",
       "    </tr>\n",
       "    <tr>\n",
       "      <th>54209</th>\n",
       "      <td>54210</td>\n",
       "      <td>\"Bonino\" (1953)</td>\n",
       "      <td>comedy</td>\n",
       "      <td>This short-lived NBC live sitcom centered on B...</td>\n",
       "    </tr>\n",
       "    <tr>\n",
       "      <th>54210</th>\n",
       "      <td>54211</td>\n",
       "      <td>Dead Girls Don't Cry (????)</td>\n",
       "      <td>horror</td>\n",
       "      <td>The NEXT Generation of EXPLOITATION. The siste...</td>\n",
       "    </tr>\n",
       "    <tr>\n",
       "      <th>54211</th>\n",
       "      <td>54212</td>\n",
       "      <td>Ronald Goedemondt: Ze bestaan echt (2008)</td>\n",
       "      <td>documentary</td>\n",
       "      <td>Ze bestaan echt, is a stand-up comedy about gr...</td>\n",
       "    </tr>\n",
       "    <tr>\n",
       "      <th>54212</th>\n",
       "      <td>54213</td>\n",
       "      <td>Make Your Own Bed (1944)</td>\n",
       "      <td>comedy</td>\n",
       "      <td>Walter and Vivian live in the country and have...</td>\n",
       "    </tr>\n",
       "    <tr>\n",
       "      <th>54213</th>\n",
       "      <td>54214</td>\n",
       "      <td>Nature's Fury: Storm of the Century (2006)</td>\n",
       "      <td>history</td>\n",
       "      <td>On Labor Day Weekend, 1935, the most intense h...</td>\n",
       "    </tr>\n",
       "  </tbody>\n",
       "</table>\n",
       "<p>54214 rows × 4 columns</p>\n",
       "</div>"
      ],
      "text/plain": [
       "          id                                       title        genre  \\\n",
       "0          1                Oscar et la dame rose (2009)        drama   \n",
       "1          2                                Cupid (1997)     thriller   \n",
       "2          3            Young, Wild and Wonderful (1980)        adult   \n",
       "3          4                       The Secret Sin (1915)        drama   \n",
       "4          5                      The Unrecovered (2007)        drama   \n",
       "...      ...                                         ...          ...   \n",
       "54209  54210                             \"Bonino\" (1953)       comedy   \n",
       "54210  54211                 Dead Girls Don't Cry (????)       horror   \n",
       "54211  54212   Ronald Goedemondt: Ze bestaan echt (2008)  documentary   \n",
       "54212  54213                    Make Your Own Bed (1944)       comedy   \n",
       "54213  54214  Nature's Fury: Storm of the Century (2006)      history   \n",
       "\n",
       "                                             description  \n",
       "0      Listening in to a conversation between his doc...  \n",
       "1      A brother and sister with a past incestuous re...  \n",
       "2      As the bus empties the students for their fiel...  \n",
       "3      To help their unemployed father make ends meet...  \n",
       "4      The film's title refers not only to the un-rec...  \n",
       "...                                                  ...  \n",
       "54209  This short-lived NBC live sitcom centered on B...  \n",
       "54210  The NEXT Generation of EXPLOITATION. The siste...  \n",
       "54211  Ze bestaan echt, is a stand-up comedy about gr...  \n",
       "54212  Walter and Vivian live in the country and have...  \n",
       "54213  On Labor Day Weekend, 1935, the most intense h...  \n",
       "\n",
       "[54214 rows x 4 columns]"
      ]
     },
     "execution_count": 5,
     "metadata": {},
     "output_type": "execute_result"
    }
   ],
   "source": [
    "#загружаем данные для обучения\n",
    "train_df = load_movie_data ('data/train_data.txt')\n",
    "\n",
    "train_df"
   ]
  },
  {
   "cell_type": "code",
   "execution_count": 6,
   "metadata": {},
   "outputs": [
    {
     "data": {
      "text/html": [
       "<div>\n",
       "<style scoped>\n",
       "    .dataframe tbody tr th:only-of-type {\n",
       "        vertical-align: middle;\n",
       "    }\n",
       "\n",
       "    .dataframe tbody tr th {\n",
       "        vertical-align: top;\n",
       "    }\n",
       "\n",
       "    .dataframe thead th {\n",
       "        text-align: right;\n",
       "    }\n",
       "</style>\n",
       "<table border=\"1\" class=\"dataframe\">\n",
       "  <thead>\n",
       "    <tr style=\"text-align: right;\">\n",
       "      <th></th>\n",
       "      <th>genre</th>\n",
       "      <th>genre_cnt</th>\n",
       "    </tr>\n",
       "  </thead>\n",
       "  <tbody>\n",
       "    <tr>\n",
       "      <th>0</th>\n",
       "      <td>drama</td>\n",
       "      <td>13613</td>\n",
       "    </tr>\n",
       "    <tr>\n",
       "      <th>1</th>\n",
       "      <td>documentary</td>\n",
       "      <td>13096</td>\n",
       "    </tr>\n",
       "    <tr>\n",
       "      <th>2</th>\n",
       "      <td>comedy</td>\n",
       "      <td>7447</td>\n",
       "    </tr>\n",
       "    <tr>\n",
       "      <th>3</th>\n",
       "      <td>short</td>\n",
       "      <td>5073</td>\n",
       "    </tr>\n",
       "    <tr>\n",
       "      <th>4</th>\n",
       "      <td>horror</td>\n",
       "      <td>2204</td>\n",
       "    </tr>\n",
       "    <tr>\n",
       "      <th>5</th>\n",
       "      <td>thriller</td>\n",
       "      <td>1591</td>\n",
       "    </tr>\n",
       "    <tr>\n",
       "      <th>6</th>\n",
       "      <td>action</td>\n",
       "      <td>1315</td>\n",
       "    </tr>\n",
       "    <tr>\n",
       "      <th>7</th>\n",
       "      <td>western</td>\n",
       "      <td>1032</td>\n",
       "    </tr>\n",
       "    <tr>\n",
       "      <th>8</th>\n",
       "      <td>reality-tv</td>\n",
       "      <td>884</td>\n",
       "    </tr>\n",
       "    <tr>\n",
       "      <th>9</th>\n",
       "      <td>family</td>\n",
       "      <td>784</td>\n",
       "    </tr>\n",
       "    <tr>\n",
       "      <th>10</th>\n",
       "      <td>adventure</td>\n",
       "      <td>775</td>\n",
       "    </tr>\n",
       "    <tr>\n",
       "      <th>11</th>\n",
       "      <td>music</td>\n",
       "      <td>731</td>\n",
       "    </tr>\n",
       "    <tr>\n",
       "      <th>12</th>\n",
       "      <td>romance</td>\n",
       "      <td>672</td>\n",
       "    </tr>\n",
       "    <tr>\n",
       "      <th>13</th>\n",
       "      <td>sci-fi</td>\n",
       "      <td>647</td>\n",
       "    </tr>\n",
       "    <tr>\n",
       "      <th>14</th>\n",
       "      <td>adult</td>\n",
       "      <td>590</td>\n",
       "    </tr>\n",
       "    <tr>\n",
       "      <th>15</th>\n",
       "      <td>crime</td>\n",
       "      <td>505</td>\n",
       "    </tr>\n",
       "    <tr>\n",
       "      <th>16</th>\n",
       "      <td>animation</td>\n",
       "      <td>498</td>\n",
       "    </tr>\n",
       "    <tr>\n",
       "      <th>17</th>\n",
       "      <td>sport</td>\n",
       "      <td>432</td>\n",
       "    </tr>\n",
       "    <tr>\n",
       "      <th>18</th>\n",
       "      <td>talk-show</td>\n",
       "      <td>391</td>\n",
       "    </tr>\n",
       "    <tr>\n",
       "      <th>19</th>\n",
       "      <td>fantasy</td>\n",
       "      <td>323</td>\n",
       "    </tr>\n",
       "    <tr>\n",
       "      <th>20</th>\n",
       "      <td>mystery</td>\n",
       "      <td>319</td>\n",
       "    </tr>\n",
       "    <tr>\n",
       "      <th>21</th>\n",
       "      <td>musical</td>\n",
       "      <td>277</td>\n",
       "    </tr>\n",
       "    <tr>\n",
       "      <th>22</th>\n",
       "      <td>biography</td>\n",
       "      <td>265</td>\n",
       "    </tr>\n",
       "    <tr>\n",
       "      <th>23</th>\n",
       "      <td>history</td>\n",
       "      <td>243</td>\n",
       "    </tr>\n",
       "    <tr>\n",
       "      <th>24</th>\n",
       "      <td>game-show</td>\n",
       "      <td>194</td>\n",
       "    </tr>\n",
       "    <tr>\n",
       "      <th>25</th>\n",
       "      <td>news</td>\n",
       "      <td>181</td>\n",
       "    </tr>\n",
       "    <tr>\n",
       "      <th>26</th>\n",
       "      <td>war</td>\n",
       "      <td>132</td>\n",
       "    </tr>\n",
       "  </tbody>\n",
       "</table>\n",
       "</div>"
      ],
      "text/plain": [
       "          genre  genre_cnt\n",
       "0         drama      13613\n",
       "1   documentary      13096\n",
       "2        comedy       7447\n",
       "3         short       5073\n",
       "4        horror       2204\n",
       "5      thriller       1591\n",
       "6        action       1315\n",
       "7       western       1032\n",
       "8    reality-tv        884\n",
       "9        family        784\n",
       "10    adventure        775\n",
       "11        music        731\n",
       "12      romance        672\n",
       "13       sci-fi        647\n",
       "14        adult        590\n",
       "15        crime        505\n",
       "16    animation        498\n",
       "17        sport        432\n",
       "18    talk-show        391\n",
       "19      fantasy        323\n",
       "20      mystery        319\n",
       "21      musical        277\n",
       "22    biography        265\n",
       "23      history        243\n",
       "24    game-show        194\n",
       "25         news        181\n",
       "26          war        132"
      ]
     },
     "execution_count": 6,
     "metadata": {},
     "output_type": "execute_result"
    },
    {
     "data": {
      "image/png": "[encoded data removed]",
      "text/plain": [
       "<Figure size 432x288 with 1 Axes>"
      ]
     },
     "metadata": {
      "needs_background": "light"
     },
     "output_type": "display_data"
    }
   ],
   "source": [
    "# Посмотрим распределение по жанрам\n",
    "\n",
    "genre_count_df = train_df[['id','genre']].groupby('genre').agg('count').sort_values('id', ascending = False)\n",
    "\n",
    "genre_count_df.reset_index(inplace = True)\n",
    "genre_count_df.rename(columns ={'id':'genre_cnt'}, inplace = True)\n",
    "\n",
    "genre_count_df.plot.bar(y = 'genre_cnt', x = 'genre')\n",
    "\n",
    "genre_count_df"
   ]
  },
  {
   "cell_type": "code",
   "execution_count": 7,
   "metadata": {},
   "outputs": [
    {
     "data": {
      "text/html": [
       "<div>\n",
       "<style scoped>\n",
       "    .dataframe tbody tr th:only-of-type {\n",
       "        vertical-align: middle;\n",
       "    }\n",
       "\n",
       "    .dataframe tbody tr th {\n",
       "        vertical-align: top;\n",
       "    }\n",
       "\n",
       "    .dataframe thead th {\n",
       "        text-align: right;\n",
       "    }\n",
       "</style>\n",
       "<table border=\"1\" class=\"dataframe\">\n",
       "  <thead>\n",
       "    <tr style=\"text-align: right;\">\n",
       "      <th></th>\n",
       "      <th>id</th>\n",
       "      <th>title</th>\n",
       "      <th>genre</th>\n",
       "      <th>description</th>\n",
       "    </tr>\n",
       "  </thead>\n",
       "  <tbody>\n",
       "    <tr>\n",
       "      <th>0</th>\n",
       "      <td>1</td>\n",
       "      <td>Edgar's Lunch (1998)</td>\n",
       "      <td>thriller</td>\n",
       "      <td>L.R. Brane loves his life - his car, his apart...</td>\n",
       "    </tr>\n",
       "    <tr>\n",
       "      <th>1</th>\n",
       "      <td>2</td>\n",
       "      <td>La guerra de papá (1977)</td>\n",
       "      <td>comedy</td>\n",
       "      <td>Spain, March 1964: Quico is a very naughty chi...</td>\n",
       "    </tr>\n",
       "    <tr>\n",
       "      <th>2</th>\n",
       "      <td>3</td>\n",
       "      <td>Off the Beaten Track (2010)</td>\n",
       "      <td>documentary</td>\n",
       "      <td>One year in the life of Albin and his family o...</td>\n",
       "    </tr>\n",
       "    <tr>\n",
       "      <th>3</th>\n",
       "      <td>4</td>\n",
       "      <td>Meu Amigo Hindu (2015)</td>\n",
       "      <td>drama</td>\n",
       "      <td>His father has died, he hasn't spoken with his...</td>\n",
       "    </tr>\n",
       "    <tr>\n",
       "      <th>4</th>\n",
       "      <td>5</td>\n",
       "      <td>Er nu zhai (1955)</td>\n",
       "      <td>drama</td>\n",
       "      <td>Before he was known internationally as a marti...</td>\n",
       "    </tr>\n",
       "    <tr>\n",
       "      <th>...</th>\n",
       "      <td>...</td>\n",
       "      <td>...</td>\n",
       "      <td>...</td>\n",
       "      <td>...</td>\n",
       "    </tr>\n",
       "    <tr>\n",
       "      <th>54195</th>\n",
       "      <td>54196</td>\n",
       "      <td>\"Tales of Light &amp; Dark\" (2013)</td>\n",
       "      <td>horror</td>\n",
       "      <td>Covering multiple genres, Tales of Light &amp; Dar...</td>\n",
       "    </tr>\n",
       "    <tr>\n",
       "      <th>54196</th>\n",
       "      <td>54197</td>\n",
       "      <td>Der letzte Mohikaner (1965)</td>\n",
       "      <td>western</td>\n",
       "      <td>As Alice and Cora Munro attempt to find their ...</td>\n",
       "    </tr>\n",
       "    <tr>\n",
       "      <th>54197</th>\n",
       "      <td>54198</td>\n",
       "      <td>Oliver Twink (2007)</td>\n",
       "      <td>adult</td>\n",
       "      <td>A movie 169 years in the making. Oliver Twist,...</td>\n",
       "    </tr>\n",
       "    <tr>\n",
       "      <th>54198</th>\n",
       "      <td>54199</td>\n",
       "      <td>Slipstream (1973)</td>\n",
       "      <td>drama</td>\n",
       "      <td>Popular, but mysterious rock D.J Mike Mallard ...</td>\n",
       "    </tr>\n",
       "    <tr>\n",
       "      <th>54199</th>\n",
       "      <td>54200</td>\n",
       "      <td>Curitiba Zero Grau (2010)</td>\n",
       "      <td>drama</td>\n",
       "      <td>Curitiba is a city in movement, with rhythms a...</td>\n",
       "    </tr>\n",
       "  </tbody>\n",
       "</table>\n",
       "<p>54200 rows × 4 columns</p>\n",
       "</div>"
      ],
      "text/plain": [
       "          id                           title        genre  \\\n",
       "0          1            Edgar's Lunch (1998)     thriller   \n",
       "1          2        La guerra de papá (1977)       comedy   \n",
       "2          3     Off the Beaten Track (2010)  documentary   \n",
       "3          4          Meu Amigo Hindu (2015)        drama   \n",
       "4          5               Er nu zhai (1955)        drama   \n",
       "...      ...                             ...          ...   \n",
       "54195  54196  \"Tales of Light & Dark\" (2013)       horror   \n",
       "54196  54197     Der letzte Mohikaner (1965)      western   \n",
       "54197  54198             Oliver Twink (2007)        adult   \n",
       "54198  54199               Slipstream (1973)        drama   \n",
       "54199  54200       Curitiba Zero Grau (2010)        drama   \n",
       "\n",
       "                                             description  \n",
       "0      L.R. Brane loves his life - his car, his apart...  \n",
       "1      Spain, March 1964: Quico is a very naughty chi...  \n",
       "2      One year in the life of Albin and his family o...  \n",
       "3      His father has died, he hasn't spoken with his...  \n",
       "4      Before he was known internationally as a marti...  \n",
       "...                                                  ...  \n",
       "54195  Covering multiple genres, Tales of Light & Dar...  \n",
       "54196  As Alice and Cora Munro attempt to find their ...  \n",
       "54197  A movie 169 years in the making. Oliver Twist,...  \n",
       "54198  Popular, but mysterious rock D.J Mike Mallard ...  \n",
       "54199  Curitiba is a city in movement, with rhythms a...  \n",
       "\n",
       "[54200 rows x 4 columns]"
      ]
     },
     "execution_count": 7,
     "metadata": {},
     "output_type": "execute_result"
    }
   ],
   "source": [
    "#Загружаем тестовые данные\n",
    "test_df = load_movie_data ('data/test_data_solution.txt')\n",
    "\n",
    "test_df"
   ]
  },
  {
   "cell_type": "markdown",
   "metadata": {},
   "source": [
    "## 2. Подготовка данных для модели\n"
   ]
  },
  {
   "cell_type": "code",
   "execution_count": 8,
   "metadata": {},
   "outputs": [],
   "source": [
    "def tokenize_text (p_raw_text, p_stop_words):\n",
    "    '''Функция для токенизации текста\n",
    "\n",
    "    :param p_raw_text: исходная текстовая строка\n",
    "    :param p_stop_words: список стоп слов\n",
    "    '''\n",
    "    \n",
    "    tokenized_str = nltk.word_tokenize(p_raw_text)\n",
    "    tokens = [i.lower() for i in tokenized_str if ( i not in string.punctuation )]\n",
    "    filtered_tokens = [i for i in tokens if ( i not in p_stop_words )]\n",
    "    \n",
    "    return filtered_tokens\n",
    "\n",
    "#tokenize_text"
   ]
  },
  {
   "cell_type": "code",
   "execution_count": 9,
   "metadata": {},
   "outputs": [],
   "source": [
    "#разбиваем описание на токены\n",
    "\n",
    "train_df['description_tokenized'] = train_df['description'].apply(lambda x:tokenize_text(x, stopwords.words('english')))\n",
    "test_df['description_tokenized'] = test_df['description'].apply(lambda x:tokenize_text(x, stopwords.words('english')))"
   ]
  },
  {
   "cell_type": "code",
   "execution_count": 10,
   "metadata": {},
   "outputs": [
    {
     "data": {
      "text/plain": [
       "{'<OOV>': 1,\n",
       " \"'s\": 2,\n",
       " \"''\": 3,\n",
       " '``': 4,\n",
       " 'life': 5,\n",
       " 'one': 6,\n",
       " 'film': 7,\n",
       " 'new': 8,\n",
       " 'world': 9,\n",
       " 'young': 10}"
      ]
     },
     "execution_count": 10,
     "metadata": {},
     "output_type": "execute_result"
    }
   ],
   "source": [
    "# Подготовим частотный словарь для кодирования описаний\n",
    "\n",
    "#Самые часто встречающийся токены (слова)\n",
    "oov_tok = '<OOV>'\n",
    "#Количество уникальных слов в словаре\n",
    "vocab_size = 10000\n",
    "\n",
    "train_data = train_df.description_tokenized.to_numpy()\n",
    "tokenizer = Tokenizer(num_words = vocab_size, oov_token = oov_tok)\n",
    "tokenizer.fit_on_texts(train_data)\n",
    "word_index = tokenizer.word_index\n",
    "\n",
    "dict(list(word_index.items())[0:10])"
   ]
  },
  {
   "cell_type": "code",
   "execution_count": 11,
   "metadata": {},
   "outputs": [
    {
     "name": "stdout",
     "output_type": "stream",
     "text": [
      "[1277, 1031, 2629, 233, 26, 100, 480, 192, 371, 34, 414, 885, 1, 8041, 3968, 1277, 2, 19, 150]\n",
      "\n",
      "[69, 1248, 9, 1, 1, 2744, 233, 1434, 6916, 2307, 2118, 80, 131, 435, 4899, 4015, 121, 118, 36, 218, 393, 1209, 140, 1, 355, 86, 1, 3581, 1356, 887, 6916, 1990, 559]\n"
     ]
    }
   ],
   "source": [
    "#Кодируем описания\n",
    "\n",
    "#данные для обучения\n",
    "train_sequences = tokenizer.texts_to_sequences(train_data)\n",
    "\n",
    "#данные для проверки\n",
    "test_data = test_df.description_tokenized.to_numpy()\n",
    "test_sequences = tokenizer.texts_to_sequences(test_data)\n",
    "\n",
    "print(train_sequences[11])\n",
    "print()\n",
    "print(test_sequences[11])"
   ]
  },
  {
   "cell_type": "code",
   "execution_count": 12,
   "metadata": {},
   "outputs": [
    {
     "name": "stdout",
     "output_type": "stream",
     "text": [
      "минимальная длина описания: 4\n",
      "средняя длина описания: 59\n",
      "максимальная длина описания: 1481\n"
     ]
    },
    {
     "data": {
      "text/plain": [
       "(array([6.50572586e-03, 2.41776121e-04, 1.82331166e-05, 3.37187773e-06,\n",
       "        6.24421801e-07, 2.49768720e-07, 1.24884360e-07, 2.49768720e-07,\n",
       "        0.00000000e+00, 1.24884360e-07]),\n",
       " array([   4. ,  151.7,  299.4,  447.1,  594.8,  742.5,  890.2, 1037.9,\n",
       "        1185.6, 1333.3, 1481. ]),\n",
       " <a list of 10 Patch objects>)"
      ]
     },
     "execution_count": 12,
     "metadata": {},
     "output_type": "execute_result"
    },
    {
     "data": {
      "image/png": "[encoded data removed]",
      "text/plain": [
       "<Figure size 432x288 with 1 Axes>"
      ]
     },
     "metadata": {
      "needs_background": "light"
     },
     "output_type": "display_data"
    }
   ],
   "source": [
    "# Посчитаем среднюю длинну описания, чтобы определить длинну последовательности\n",
    "train_df['description_len'] = train_df['description_tokenized'].apply (len)\n",
    "\n",
    "print ('минимальная длина описания:', train_df.description_len.min())\n",
    "print ('средняя длина описания:', round(train_df.description_len.mean()))\n",
    "print ('максимальная длина описания:', train_df.description_len.max())\n",
    "\n",
    "plt.hist(train_df.description_len, density = True)"
   ]
  },
  {
   "cell_type": "code",
   "execution_count": 13,
   "metadata": {},
   "outputs": [
    {
     "name": "stdout",
     "output_type": "stream",
     "text": [
      "[1277 1031 2629  233   26  100  480  192  371   34  414  885    1 8041\n",
      " 3968 1277    2   19  150    0    0    0    0    0    0    0    0    0\n",
      "    0    0    0    0    0    0    0    0    0    0    0    0    0    0\n",
      "    0    0    0    0    0    0    0    0    0    0    0    0    0    0\n",
      "    0    0    0    0    0    0    0    0    0    0    0    0    0    0]\n",
      "\n",
      "[  69 1248    9    1    1 2744  233 1434 6916 2307 2118   80  131  435\n",
      " 4899 4015  121  118   36  218  393 1209  140    1  355   86    1 3581\n",
      " 1356  887 6916 1990  559    0    0    0    0    0    0    0    0    0\n",
      "    0    0    0    0    0    0    0    0    0    0    0    0    0    0\n",
      "    0    0    0    0    0    0    0    0    0    0    0    0    0    0]\n"
     ]
    }
   ],
   "source": [
    "# Приведем все цепочки в датасете к одной длине с помощью паддинга\n",
    "\n",
    "MAX_SEQ_LEN = 70\n",
    "trunc_type = 'post'\n",
    "padding_type = 'post'\n",
    "\n",
    "train_data = pad_sequences(train_sequences, maxlen=MAX_SEQ_LEN, padding=padding_type, truncating=trunc_type)\n",
    "test_data = pad_sequences(test_sequences, maxlen=MAX_SEQ_LEN, padding=padding_type, truncating=trunc_type)\n",
    "\n",
    "print(train_data[11])\n",
    "print()\n",
    "print(test_data[11])"
   ]
  },
  {
   "cell_type": "code",
   "execution_count": 14,
   "metadata": {},
   "outputs": [
    {
     "name": "stdout",
     "output_type": "stream",
     "text": [
      "[1]\n",
      "[6]\n",
      "[15]\n",
      "(54214, 1)\n",
      "[6]\n",
      "[3]\n",
      "[2]\n",
      "(54200, 1)\n"
     ]
    }
   ],
   "source": [
    "# Подготовим метки жанров для обучения и проверки\n",
    "\n",
    "train_labels = [[genre] for genre in train_df.genre.values]\n",
    "test_labels = [[genre] for genre in test_df.genre.values]\n",
    "\n",
    "label_tokenizer = Tokenizer()\n",
    "label_tokenizer.fit_on_texts(train_labels)\n",
    "\n",
    "train_labels = np.array(label_tokenizer.texts_to_sequences(train_labels))\n",
    "test_labels = np.array(label_tokenizer.texts_to_sequences(test_labels))\n",
    "\n",
    "print(train_labels[0])\n",
    "print(train_labels[1])\n",
    "print(train_labels[2])\n",
    "print(train_labels.shape)\n",
    "\n",
    "print(test_labels[0])\n",
    "print(test_labels[1])\n",
    "print(test_labels[2])\n",
    "print(test_labels.shape)"
   ]
  },
  {
   "cell_type": "code",
   "execution_count": 15,
   "metadata": {},
   "outputs": [
    {
     "name": "stdout",
     "output_type": "stream",
     "text": [
      "(43371, 70) (43371, 1)\n",
      "(10843, 70) (10843, 1)\n"
     ]
    }
   ],
   "source": [
    "#Разбьем обучающий датасет на обучающий и валидационный\n",
    "partial_x_train, x_val, partial_y_train, y_val = train_test_split(train_data, train_labels, \n",
    "                                                                  test_size = 0.20, random_state = 42)\n",
    "\n",
    "print(partial_x_train.shape, partial_y_train.shape)\n",
    "print(x_val.shape, y_val.shape)"
   ]
  },
  {
   "cell_type": "markdown",
   "metadata": {},
   "source": [
    "## 3. Создание и обучение модели"
   ]
  },
  {
   "cell_type": "code",
   "execution_count": 16,
   "metadata": {},
   "outputs": [
    {
     "name": "stdout",
     "output_type": "stream",
     "text": [
      "Model: \"sequential\"\n",
      "_________________________________________________________________\n",
      "Layer (type)                 Output Shape              Param #   \n",
      "=================================================================\n",
      "embedding (Embedding)        (None, None, 64)          640000    \n",
      "_________________________________________________________________\n",
      "bidirectional (Bidirectional (None, None, 128)         66048     \n",
      "_________________________________________________________________\n",
      "bidirectional_1 (Bidirection (None, 128)               98816     \n",
      "_________________________________________________________________\n",
      "dense (Dense)                (None, 28)                3612      \n",
      "=================================================================\n",
      "Total params: 808,476\n",
      "Trainable params: 808,476\n",
      "Non-trainable params: 0\n",
      "_________________________________________________________________\n"
     ]
    }
   ],
   "source": [
    "# Создадим рекурентную модель для классификации\n",
    "\n",
    "VOCAB_SIZE = vocab_size\n",
    "# Размер векторного представления (эмбеддинга)\n",
    "EMB_SIZE = 64\n",
    "# Количество классов (жанров фильмов)\n",
    "CLASS_NUM = 28\n",
    "\n",
    "model = tf.keras.Sequential([\n",
    "    tf.keras.layers.Embedding(VOCAB_SIZE, EMB_SIZE),\n",
    "    tf.keras.layers.Bidirectional(\n",
    "        tf.keras.layers.LSTM(EMB_SIZE, return_sequences=True, dropout=0.5, recurrent_dropout=0.5)),\n",
    "    tf.keras.layers.Bidirectional(\n",
    "        tf.keras.layers.LSTM(EMB_SIZE, return_sequences=False, dropout=0.5, recurrent_dropout=0.5)),\n",
    "    tf.keras.layers.Dense(CLASS_NUM, activation= 'softmax'),\n",
    "])\n",
    "\n",
    "#model = tf.keras.Sequential([\n",
    "#    tf.keras.layers.Embedding(VOCAB_SIZE, EMB_SIZE, input_length=train_data.shape[1]),\n",
    "#    tf.keras.layers.SpatialDropout1D(0.2),\n",
    "#    tf.keras.layers.LSTM(EMB_SIZE, dropout=0.2, recurrent_dropout=0.2),\n",
    "#    tf.keras.layers.Dense(CLASS_NUM, activation= 'softmax'),\n",
    "#])\n",
    "\n",
    "model.summary()"
   ]
  },
  {
   "cell_type": "code",
   "execution_count": 17,
   "metadata": {},
   "outputs": [
    {
     "name": "stdout",
     "output_type": "stream",
     "text": [
      "Epoch 1/10\n",
      "678/678 [==============================] - ETA: 0s - loss: 2.0472 - acc: 0.4050\n",
      "Epoch 00001: acc improved from -inf to 0.40504, saving model to data/14_text_classifier.hdf5\n",
      "678/678 [==============================] - 97s 143ms/step - loss: 2.0472 - acc: 0.4050 - val_loss: 1.7987 - val_acc: 0.4717\n",
      "Epoch 2/10\n",
      "678/678 [==============================] - ETA: 0s - loss: 1.6577 - acc: 0.5191\n",
      "Epoch 00002: acc improved from 0.40504 to 0.51910, saving model to data/14_text_classifier.hdf5\n",
      "678/678 [==============================] - 99s 147ms/step - loss: 1.6577 - acc: 0.5191 - val_loss: 1.6488 - val_acc: 0.5131\n",
      "Epoch 3/10\n",
      "678/678 [==============================] - ETA: 0s - loss: 1.4850 - acc: 0.5711\n",
      "Epoch 00003: acc improved from 0.51910 to 0.57114, saving model to data/14_text_classifier.hdf5\n",
      "678/678 [==============================] - 99s 146ms/step - loss: 1.4850 - acc: 0.5711 - val_loss: 1.6227 - val_acc: 0.5279\n",
      "Epoch 4/10\n",
      "678/678 [==============================] - ETA: 0s - loss: 1.3677 - acc: 0.6040\n",
      "Epoch 00004: acc improved from 0.57114 to 0.60402, saving model to data/14_text_classifier.hdf5\n",
      "678/678 [==============================] - 99s 147ms/step - loss: 1.3677 - acc: 0.6040 - val_loss: 1.6170 - val_acc: 0.5376\n",
      "Epoch 5/10\n",
      "678/678 [==============================] - ETA: 0s - loss: 1.2645 - acc: 0.6332\n",
      "Epoch 00005: acc improved from 0.60402 to 0.63323, saving model to data/14_text_classifier.hdf5\n",
      "678/678 [==============================] - 99s 147ms/step - loss: 1.2645 - acc: 0.6332 - val_loss: 1.6171 - val_acc: 0.5403\n",
      "Epoch 6/10\n",
      "678/678 [==============================] - ETA: 0s - loss: 1.1664 - acc: 0.6598\n",
      "Epoch 00006: acc improved from 0.63323 to 0.65984, saving model to data/14_text_classifier.hdf5\n",
      "678/678 [==============================] - 99s 147ms/step - loss: 1.1664 - acc: 0.6598 - val_loss: 1.6161 - val_acc: 0.5352\n",
      "Epoch 7/10\n",
      "678/678 [==============================] - ETA: 0s - loss: 1.0874 - acc: 0.6811\n",
      "Epoch 00007: acc improved from 0.65984 to 0.68115, saving model to data/14_text_classifier.hdf5\n",
      "678/678 [==============================] - 100s 147ms/step - loss: 1.0874 - acc: 0.6811 - val_loss: 1.6683 - val_acc: 0.5402\n",
      "Epoch 8/10\n",
      "678/678 [==============================] - ETA: 0s - loss: 1.0185 - acc: 0.6995\n",
      "Epoch 00008: acc improved from 0.68115 to 0.69950, saving model to data/14_text_classifier.hdf5\n",
      "678/678 [==============================] - 99s 147ms/step - loss: 1.0185 - acc: 0.6995 - val_loss: 1.6958 - val_acc: 0.5428\n",
      "Epoch 9/10\n",
      "678/678 [==============================] - ETA: 0s - loss: 0.9558 - acc: 0.7185\n",
      "Epoch 00009: acc improved from 0.69950 to 0.71845, saving model to data/14_text_classifier.hdf5\n",
      "678/678 [==============================] - 100s 148ms/step - loss: 0.9558 - acc: 0.7185 - val_loss: 1.7319 - val_acc: 0.5480\n",
      "Epoch 10/10\n",
      "678/678 [==============================] - ETA: 0s - loss: 0.9060 - acc: 0.7287\n",
      "Epoch 00010: acc improved from 0.71845 to 0.72871, saving model to data/14_text_classifier.hdf5\n",
      "678/678 [==============================] - 100s 147ms/step - loss: 0.9060 - acc: 0.7287 - val_loss: 1.7480 - val_acc: 0.5350\n"
     ]
    }
   ],
   "source": [
    "#Обучение модели\n",
    "BATCH_SIZE = 64\n",
    "NUM_EPOCHS = 10\n",
    "\n",
    "#Настраиваем объект для сохранения результатов работы модели\n",
    "cpt_path = 'data/14_text_classifier.hdf5'\n",
    "checkpoint = tf.keras.callbacks.ModelCheckpoint(cpt_path, monitor='acc', verbose=1, save_best_only= True, mode='max')\n",
    "\n",
    "model.compile(loss= 'sparse_categorical_crossentropy', optimizer='adam', metrics=['acc'])\n",
    "\n",
    "#запускаем обучение\n",
    "history= model.fit(partial_x_train, partial_y_train, validation_data= (x_val, y_val), \n",
    "                   epochs= NUM_EPOCHS, batch_size= BATCH_SIZE, verbose= 1,\n",
    "                   callbacks=[checkpoint])\n"
   ]
  },
  {
   "cell_type": "code",
   "execution_count": 18,
   "metadata": {},
   "outputs": [
    {
     "data": {
      "image/png": "[encoded data removed]",
      "text/plain": [
       "<Figure size 432x288 with 1 Axes>"
      ]
     },
     "metadata": {
      "needs_background": "light"
     },
     "output_type": "display_data"
    },
    {
     "data": {
      "image/png": "[encoded data removed]",
      "text/plain": [
       "<Figure size 432x288 with 1 Axes>"
      ]
     },
     "metadata": {
      "needs_background": "light"
     },
     "output_type": "display_data"
    }
   ],
   "source": [
    "#отобразим графики обучения\n",
    "\n",
    "epochs = range(1, len(history.history['acc']) + 1)\n",
    "\n",
    "plt.figure()\n",
    "plt.plot(epochs, history.history['loss'], 'bo', label='Training loss')\n",
    "plt.plot(epochs, history.history['val_loss'], 'b', label='Validation loss')\n",
    "plt.title('Training and validation loss')\n",
    "plt.xlabel('Epochs')\n",
    "plt.ylabel('Loss')\n",
    "plt.legend()\n",
    "plt.grid()\n",
    "\n",
    "plt.figure()\n",
    "plt.plot(epochs, history.history['acc'], 'bo', label='Training acc')\n",
    "plt.plot(epochs, history.history['val_acc'], 'b', label='Validation acc')\n",
    "plt.title('Training and validation accuracy')\n",
    "plt.xlabel('Epochs')\n",
    "plt.ylabel('Accuracy')\n",
    "plt.legend()\n",
    "plt.grid()"
   ]
  },
  {
   "cell_type": "code",
   "execution_count": 19,
   "metadata": {},
   "outputs": [
    {
     "name": "stdout",
     "output_type": "stream",
     "text": [
      "1694/1694 [==============================] - 28s 17ms/step - loss: 1.7774 - acc: 0.5335\n",
      "Test loss: 1.7774\n",
      "Test accuracy: 53.35 %\n"
     ]
    }
   ],
   "source": [
    "# оценим качество на тестовом датасете\n",
    "\n",
    "results = model.evaluate(test_data, test_labels)\n",
    "\n",
    "print('Test loss: {:.4f}'.format(results[0]))\n",
    "print('Test accuracy: {:.2f} %'.format(results[1]*100))"
   ]
  },
  {
   "cell_type": "code",
   "execution_count": null,
   "metadata": {},
   "outputs": [],
   "source": []
  }
 ],
 "metadata": {
  "kernelspec": {
   "display_name": "Python 3",
   "language": "python",
   "name": "python3"
  },
  "language_info": {
   "codemirror_mode": {
    "name": "ipython",
    "version": 3
   },
   "file_extension": ".py",
   "mimetype": "text/x-python",
   "name": "python",
   "nbconvert_exporter": "python",
   "pygments_lexer": "ipython3",
   "version": "3.7.6"
  }
 },
 "nbformat": 4,
 "nbformat_minor": 4
}
